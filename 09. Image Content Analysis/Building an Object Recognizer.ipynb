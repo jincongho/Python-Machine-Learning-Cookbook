{
 "cells": [
  {
   "cell_type": "code",
   "execution_count": 1,
   "metadata": {
    "collapsed": true
   },
   "outputs": [],
   "source": [
    "import cPickle as pickle\n",
    "import cv2\n",
    "import numpy as np\n",
    "import build_features as bf\n",
    "from trainer import ERFTrainer"
   ]
  },
  {
   "cell_type": "code",
   "execution_count": 2,
   "metadata": {
    "collapsed": true
   },
   "outputs": [],
   "source": [
    "class ImageTagExtractor(object):\n",
    "    \n",
    "    def __init__(self, model_file, codebook_file):\n",
    "        \n",
    "        with open(model_file, 'r') as f:\n",
    "            self.erf = pickle.load(f)\n",
    "            \n",
    "        with open(codebook_file, 'r') as f:\n",
    "            self.kmeans, self.centroids = pickle.load(f)\n",
    "            \n",
    "    def predict(self, img, scaling_size):\n",
    "        img = bf.resize_image(img, scaling_size)\n",
    "        feature_vector = bf.BagOfWords().construct_feature(img, self.kmeans, self.centroids)\n",
    "        image_tag = self.erf.classify(feature_vector)[0]\n",
    "        return image_tag"
   ]
  },
  {
   "cell_type": "code",
   "execution_count": 3,
   "metadata": {
    "collapsed": false
   },
   "outputs": [
    {
     "name": "stdout",
     "output_type": "stream",
     "text": [
      "('Output: ', 'airplanes')\n"
     ]
    }
   ],
   "source": [
    "model_file = 'erf.pkl'\n",
    "codebook_file = 'codebook.pkl'\n",
    "input_image = 'airplane.jpg'\n",
    "img = cv2.imread(input_image)\n",
    "scaling_size = 200\n",
    "\n",
    "print(\"Output: \", ImageTagExtractor(model_file, codebook_file).predict(img, scaling_size))"
   ]
  },
  {
   "cell_type": "code",
   "execution_count": null,
   "metadata": {
    "collapsed": true
   },
   "outputs": [],
   "source": []
  }
 ],
 "metadata": {
  "kernelspec": {
   "display_name": "Python 2",
   "language": "python",
   "name": "python2"
  },
  "language_info": {
   "codemirror_mode": {
    "name": "ipython",
    "version": 2
   },
   "file_extension": ".py",
   "mimetype": "text/x-python",
   "name": "python",
   "nbconvert_exporter": "python",
   "pygments_lexer": "ipython2",
   "version": "2.7.13"
  }
 },
 "nbformat": 4,
 "nbformat_minor": 2
}
