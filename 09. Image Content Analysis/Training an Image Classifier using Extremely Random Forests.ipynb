{
 "cells": [
  {
   "cell_type": "code",
   "execution_count": 1,
   "metadata": {
    "collapsed": false
   },
   "outputs": [],
   "source": [
    "import cPickle as pickle\n",
    "import numpy as np\n",
    "from sklearn.ensemble import ExtraTreesClassifier\n",
    "from sklearn import preprocessing"
   ]
  },
  {
   "cell_type": "code",
   "execution_count": 2,
   "metadata": {
    "collapsed": true
   },
   "outputs": [],
   "source": [
    "class ERFTrainer(object):\n",
    "    \n",
    "    def __init__(self, X, label_words):\n",
    "        self.le = preprocessing.LabelEncoder()\n",
    "        self.clf = ExtraTreesClassifier(n_estimators=100,\n",
    "                                       max_depth=16, random_state=0)\n",
    "        y = self.encode_labels(label_words)\n",
    "        self.clf.fit(np.asarray(X), y)\n",
    "        \n",
    "    def encode_labels(self, label_words):\n",
    "        self.le.fit(label_words)\n",
    "        return np.array(self.le.transform(label_words), dtype=np.float32)\n",
    "    \n",
    "    def classify(self, X):\n",
    "        label_nums = self.clf.predict(np.asarray(X))\n",
    "        label_words = self.le.inverse_transform([int(x) for x in label_nums])\n",
    "        \n",
    "        return label_words"
   ]
  },
  {
   "cell_type": "code",
   "execution_count": 3,
   "metadata": {
    "collapsed": true
   },
   "outputs": [],
   "source": [
    "feature_map_file = 'feature_map.pkl'\n",
    "model_file = 'erf.pkl'\n",
    "\n",
    "# load the feature map\n",
    "with open(feature_map_file, 'r') as f:\n",
    "    feature_map = pickle.load(f)"
   ]
  },
  {
   "cell_type": "code",
   "execution_count": 4,
   "metadata": {
    "collapsed": true
   },
   "outputs": [],
   "source": [
    "# Extract feature vectors and the labels\n",
    "label_words = [x['object_class'] for x in feature_map]\n",
    "dim_size = feature_map[0]['feature_vector'].shape[1]\n",
    "X = [np.reshape(x['feature_vector'], (dim_size, )) for x in feature_map]"
   ]
  },
  {
   "cell_type": "code",
   "execution_count": 5,
   "metadata": {
    "collapsed": false
   },
   "outputs": [],
   "source": [
    "# Train the Extremely Random Forests Classifier\n",
    "erf = ERFTrainer(X, label_words)\n",
    "\n",
    "with open(model_file, 'wb') as f:\n",
    "    pickle.dump(erf, f)"
   ]
  },
  {
   "cell_type": "code",
   "execution_count": null,
   "metadata": {
    "collapsed": true
   },
   "outputs": [],
   "source": []
  }
 ],
 "metadata": {
  "kernelspec": {
   "display_name": "Python 2",
   "language": "python",
   "name": "python2"
  },
  "language_info": {
   "codemirror_mode": {
    "name": "ipython",
    "version": 2
   },
   "file_extension": ".py",
   "mimetype": "text/x-python",
   "name": "python",
   "nbconvert_exporter": "python",
   "pygments_lexer": "ipython2",
   "version": "2.7.13"
  }
 },
 "nbformat": 4,
 "nbformat_minor": 2
}
