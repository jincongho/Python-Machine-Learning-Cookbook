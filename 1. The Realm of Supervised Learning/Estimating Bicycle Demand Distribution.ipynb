{
 "cells": [
  {
   "cell_type": "code",
   "execution_count": 30,
   "metadata": {
    "collapsed": false
   },
   "outputs": [],
   "source": [
    "import csv\n",
    "import numpy as np\n",
    "from sklearn.utils import shuffle\n",
    "from sklearn.metrics import mean_squared_error, explained_variance_score\n",
    "from sklearn.ensemble import RandomForestRegressor\n",
    "import matplotlib.pyplot as plt"
   ]
  },
  {
   "cell_type": "code",
   "execution_count": 31,
   "metadata": {
    "collapsed": true
   },
   "outputs": [],
   "source": [
    "def plot_features_importances(features_importances, title, features_name):\n",
    "    # Normalise the importance values\n",
    "    features_importances = 100.0 * (features_importances / max(features_importances))\n",
    "    \n",
    "    # Sort the index values and flip them so that they are arranged in decreasing order of importance\n",
    "    index_sorted = np.flipud(np.argsort(features_importances))\n",
    "    \n",
    "    # Center the location of the labels on the X-axis (for display purposes only)\n",
    "    pos = np.arange(index_sorted.shape[0]) + 0.5\n",
    "    \n",
    "    # Plot the bar graph\n",
    "    plt.figure()\n",
    "    plt.bar(pos, features_importances[index_sorted], align='center')\n",
    "    plt.xticks(pos, features_name[index_sorted])\n",
    "    plt.ylabel('Relative Importane')\n",
    "    plt.title(title)\n",
    "    plt.show()"
   ]
  },
  {
   "cell_type": "code",
   "execution_count": 23,
   "metadata": {
    "collapsed": true
   },
   "outputs": [],
   "source": [
    "def load_dataset(filename):\n",
    "    file_reader = csv.reader(open(filename, 'r'), delimiter=',')\n",
    "    X, Y = [], []\n",
    "    for row in file_reader:\n",
    "        X.append(row[2:13])\n",
    "        Y.append(row[-1])\n",
    "        \n",
    "    # Extract feature names\n",
    "    feature_names = np.array(X[0])\n",
    "    \n",
    "    # Remove the first row because they are feature names\n",
    "    return np.array(X[1:]).astype(np.float32), np.array(Y[1:]).astype(np.float32), feature_names"
   ]
  },
  {
   "cell_type": "code",
   "execution_count": 24,
   "metadata": {
    "collapsed": false
   },
   "outputs": [],
   "source": [
    "X, Y, feature_names = load_dataset(\"bike_day.csv\")\n",
    "X, Y = shuffle(X, Y, random_state=7)"
   ]
  },
  {
   "cell_type": "code",
   "execution_count": 25,
   "metadata": {
    "collapsed": true
   },
   "outputs": [],
   "source": [
    "num_training = int(0.9 * len(X))\n",
    "X_train, Y_train = X[:num_training], Y[:num_training]\n",
    "X_test, Y_test = X[num_training:], Y[num_training:]"
   ]
  },
  {
   "cell_type": "code",
   "execution_count": 26,
   "metadata": {
    "collapsed": false
   },
   "outputs": [
    {
     "data": {
      "text/plain": [
       "RandomForestRegressor(bootstrap=True, criterion='mse', max_depth=10,\n",
       "           max_features='auto', max_leaf_nodes=None,\n",
       "           min_impurity_split=1e-07, min_samples_leaf=1,\n",
       "           min_samples_split=10, min_weight_fraction_leaf=0.0,\n",
       "           n_estimators=1000, n_jobs=1, oob_score=False, random_state=None,\n",
       "           verbose=0, warm_start=False)"
      ]
     },
     "execution_count": 26,
     "metadata": {},
     "output_type": "execute_result"
    }
   ],
   "source": [
    "rf_regressor = RandomForestRegressor(n_estimators=1000, max_depth=10, min_samples_split=10)\n",
    "rf_regressor.fit(X_train, Y_train)"
   ]
  },
  {
   "cell_type": "code",
   "execution_count": 27,
   "metadata": {
    "collapsed": false
   },
   "outputs": [
    {
     "name": "stdout",
     "output_type": "stream",
     "text": [
      "Random Forest Regressor Performance\n",
      "\n",
      "Mean squared error =  365803.02\n",
      "\n",
      "Explained Variance Score =  0.89\n"
     ]
    }
   ],
   "source": [
    "y_pred = rf_regressor.predict(X_test)\n",
    "mse = mean_squared_error(Y_test, y_pred)\n",
    "evs = explained_variance_score(Y_test, y_pred)\n",
    "\n",
    "print(\"Random Forest Regressor Performance\")\n",
    "print(\"\\nMean squared error = \", round(mse, 2))\n",
    "print(\"\\nExplained Variance Score = \", round(evs, 2))"
   ]
  },
  {
   "cell_type": "code",
   "execution_count": 33,
   "metadata": {
    "collapsed": false
   },
   "outputs": [
    {
     "data": {
      "image/png": "[encoded data removed]",
      "text/plain": [
       "<matplotlib.figure.Figure at 0x10fa23048>"
      ]
     },
     "metadata": {},
     "output_type": "display_data"
    }
   ],
   "source": [
    "plot_features_importances(rf_regressor.feature_importances_, 'Random Forest Regressor', feature_names)"
   ]
  },
  {
   "cell_type": "code",
   "execution_count": null,
   "metadata": {
    "collapsed": true
   },
   "outputs": [],
   "source": []
  }
 ],
 "metadata": {
  "kernelspec": {
   "display_name": "Python 3",
   "language": "python",
   "name": "python3"
  },
  "language_info": {
   "codemirror_mode": {
    "name": "ipython",
    "version": 3
   },
   "file_extension": ".py",
   "mimetype": "text/x-python",
   "name": "python",
   "nbconvert_exporter": "python",
   "pygments_lexer": "ipython3",
   "version": "3.6.0"
  }
 },
 "nbformat": 4,
 "nbformat_minor": 2
}
