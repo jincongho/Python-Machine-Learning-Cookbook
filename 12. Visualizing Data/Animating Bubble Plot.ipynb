{
 "cells": [
  {
   "cell_type": "code",
   "execution_count": 1,
   "metadata": {
    "collapsed": true
   },
   "outputs": [],
   "source": [
    "import numpy as np\n",
    "import matplotlib.pyplot as plt\n",
    "from matplotlib.animation import FuncAnimation"
   ]
  },
  {
   "cell_type": "code",
   "execution_count": 2,
   "metadata": {
    "collapsed": true
   },
   "outputs": [],
   "source": [
    "def tracker(cur_num):\n",
    "    # Get the current index\n",
    "    cur_index = cur_num % num_points\n",
    "    \n",
    "    # Set the color of the datapoints\n",
    "    datapoints['color'][:,3] = 1.0\n",
    "    \n",
    "    # Update the size of the circles\n",
    "    datapoints['size'] += datapoints['growth']\n",
    "    \n",
    "    # Update the size of the circles\n",
    "    datapoints['position'][cur_index] = np.random.uniform(0,1,2)\n",
    "    datapoints['size'][cur_index] = 7\n",
    "    datapoints['color'][cur_index] = (0,0,0,1)\n",
    "    datapoints['growth'][cur_index] = np.random.uniform(40,150)\n",
    "    \n",
    "    # Update the parameters of the scatter plots\n",
    "    scatter_plot.set_edgecolors(datapoints['color'])\n",
    "    scatter_plot.set_sizes(datapoints['size'])\n",
    "    scatter_plot.set_offsets(datapoints['position'])"
   ]
  },
  {
   "cell_type": "code",
   "execution_count": 3,
   "metadata": {
    "collapsed": true
   },
   "outputs": [],
   "source": [
    "# Create ad initialize the datapoints in random positions\n",
    "# and with random growth rates.\n",
    "num_points = 20"
   ]
  },
  {
   "cell_type": "code",
   "execution_count": 4,
   "metadata": {
    "collapsed": true
   },
   "outputs": [],
   "source": [
    "datapoints = np.zeros(num_points, dtype=[('position', float, 2), \n",
    "                                         ('size', float, 1), \n",
    "                                         ('growth', float, 1), \n",
    "                                         ('color', float, 4)])\n",
    "datapoints['position'] = np.random.uniform(0,1,(num_points, 2))\n",
    "datapoints['growth'] = np.random.uniform(40,150, num_points)"
   ]
  },
  {
   "cell_type": "code",
   "execution_count": 5,
   "metadata": {
    "collapsed": false
   },
   "outputs": [
    {
     "data": {
      "text/plain": [
       "((0, 1), [])"
      ]
     },
     "execution_count": 5,
     "metadata": {},
     "output_type": "execute_result"
    }
   ],
   "source": [
    "# Create a figure\n",
    "fig = plt.figure(figsize=(9,7), facecolor=(0,0.9,0.9))\n",
    "ax = fig.add_axes([0,0,1,1], frameon=False)\n",
    "ax.set_xlim(0,1), ax.set_xticks([])\n",
    "ax.set_ylim(0,1), ax.set_yticks([])"
   ]
  },
  {
   "cell_type": "code",
   "execution_count": 6,
   "metadata": {
    "collapsed": true
   },
   "outputs": [],
   "source": [
    "# Construct the scatter plot that will be updated every frame\n",
    "scatter_plot = ax.scatter(datapoints['position'][:,0], datapoints['position'][:,1], \n",
    "                          s=datapoints['size'], lw=0.7,\n",
    "                         edgecolors=datapoints['color'], facecolors='none')"
   ]
  },
  {
   "cell_type": "code",
   "execution_count": 7,
   "metadata": {
    "collapsed": false
   },
   "outputs": [
    {
     "data": {
      "image/png": "[encoded data removed]",
      "text/plain": [
       "<matplotlib.figure.Figure at 0x10f2486a0>"
      ]
     },
     "metadata": {},
     "output_type": "display_data"
    }
   ],
   "source": [
    "# Start the animation using the 'tracker' function\n",
    "animation = FuncAnimation(fig, tracker, interval=10)\n",
    "plt.show()"
   ]
  }
 ],
 "metadata": {
  "kernelspec": {
   "display_name": "Python 3",
   "language": "python",
   "name": "python3"
  },
  "language_info": {
   "codemirror_mode": {
    "name": "ipython",
    "version": 3
   },
   "file_extension": ".py",
   "mimetype": "text/x-python",
   "name": "python",
   "nbconvert_exporter": "python",
   "pygments_lexer": "ipython3",
   "version": "3.6.0"
  }
 },
 "nbformat": 4,
 "nbformat_minor": 2
}
