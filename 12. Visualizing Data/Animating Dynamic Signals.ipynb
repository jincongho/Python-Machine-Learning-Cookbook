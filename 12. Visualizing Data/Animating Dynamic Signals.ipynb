{
 "cells": [
  {
   "cell_type": "code",
   "execution_count": 1,
   "metadata": {
    "collapsed": true
   },
   "outputs": [],
   "source": [
    "import numpy as np\n",
    "import matplotlib.pyplot as plt\n",
    "import matplotlib.animation as animation"
   ]
  },
  {
   "cell_type": "code",
   "execution_count": 2,
   "metadata": {
    "collapsed": true
   },
   "outputs": [],
   "source": [
    "# Generate the signal\n",
    "def generate_data(length=2500,t=0,step_size=0.05):\n",
    "    for count in range(length):\n",
    "        t += step_size\n",
    "        signal = np.sin(2*np.pi*t)\n",
    "        damper = np.exp(-t/8.0)\n",
    "        yield t, signal * damper"
   ]
  },
  {
   "cell_type": "code",
   "execution_count": 4,
   "metadata": {
    "collapsed": true
   },
   "outputs": [],
   "source": [
    "# Initializer function\n",
    "def initializer():\n",
    "    peak_val = 1.0\n",
    "    buffer_val = 0.1\n",
    "    \n",
    "    ax.set_ylim(-peak_val * (1+buffer_val), peak_val * (1+buffer_val))\n",
    "    ax.set_xlim(0,10)\n",
    "    del x_vals[:]\n",
    "    del y_vals[:]\n",
    "    line.set_data(x_vals, y_vals)\n",
    "    return line"
   ]
  },
  {
   "cell_type": "code",
   "execution_count": 5,
   "metadata": {
    "collapsed": true
   },
   "outputs": [],
   "source": [
    "def draw(data):\n",
    "    # update the data\n",
    "    t, signal = data\n",
    "    x_vals.append(t)\n",
    "    y_vals.append(signal)\n",
    "    x_min, x_max = ax.get_xlim()\n",
    "    \n",
    "    if t>=x_max:\n",
    "        ax.set_xlim(x_min, 2*x_max)\n",
    "        ax.figure.canvas.draw()\n",
    "        \n",
    "    line.set_data(x_vals, y_vals)\n",
    "    return line"
   ]
  },
  {
   "cell_type": "code",
   "execution_count": 6,
   "metadata": {
    "collapsed": true
   },
   "outputs": [],
   "source": [
    "# Create the figure\n",
    "fig, ax = plt.subplots()\n",
    "ax.grid()"
   ]
  },
  {
   "cell_type": "code",
   "execution_count": 7,
   "metadata": {
    "collapsed": true
   },
   "outputs": [],
   "source": [
    "# Extract the line\n",
    "line, = ax.plot([],[],lw=1.5)"
   ]
  },
  {
   "cell_type": "code",
   "execution_count": 8,
   "metadata": {
    "collapsed": true
   },
   "outputs": [],
   "source": [
    "# Create the variables\n",
    "x_vals, y_vals = [], []"
   ]
  },
  {
   "cell_type": "code",
   "execution_count": 9,
   "metadata": {
    "collapsed": false
   },
   "outputs": [
    {
     "data": {
      "image/png": "[encoded data removed]",
      "text/plain": [
       "<matplotlib.figure.Figure at 0x1148986a0>"
      ]
     },
     "metadata": {},
     "output_type": "display_data"
    }
   ],
   "source": [
    "# Define the animator object\n",
    "animator = animation.FuncAnimation(fig, draw, generate_data,\n",
    "                                  blit=False, interval=10, repeat=False,\n",
    "                                  init_func=initializer)\n",
    "\n",
    "plt.show()"
   ]
  },
  {
   "cell_type": "code",
   "execution_count": null,
   "metadata": {
    "collapsed": true
   },
   "outputs": [],
   "source": []
  }
 ],
 "metadata": {
  "kernelspec": {
   "display_name": "Python 3",
   "language": "python",
   "name": "python3"
  },
  "language_info": {
   "codemirror_mode": {
    "name": "ipython",
    "version": 3
   },
   "file_extension": ".py",
   "mimetype": "text/x-python",
   "name": "python",
   "nbconvert_exporter": "python",
   "pygments_lexer": "ipython3",
   "version": "3.6.0"
  }
 },
 "nbformat": 4,
 "nbformat_minor": 2
}
