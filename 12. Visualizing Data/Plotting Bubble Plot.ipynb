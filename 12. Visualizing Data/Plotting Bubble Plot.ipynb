{
 "cells": [
  {
   "cell_type": "code",
   "execution_count": 1,
   "metadata": {
    "collapsed": true
   },
   "outputs": [],
   "source": [
    "import numpy as np\n",
    "import matplotlib.pyplot as plt"
   ]
  },
  {
   "cell_type": "code",
   "execution_count": 2,
   "metadata": {
    "collapsed": true
   },
   "outputs": [],
   "source": [
    "# Define the number of values\n",
    "num_vals = 40"
   ]
  },
  {
   "cell_type": "code",
   "execution_count": 3,
   "metadata": {
    "collapsed": true
   },
   "outputs": [],
   "source": [
    "# Genereate random values\n",
    "x = np.random.rand(num_vals)\n",
    "y = np.random.rand(num_vals)"
   ]
  },
  {
   "cell_type": "code",
   "execution_count": 4,
   "metadata": {
    "collapsed": false
   },
   "outputs": [
    {
     "data": {
      "text/plain": [
       "array([ 0.22561185,  0.33746475,  0.55393167,  0.77781575,  0.15564626,\n",
       "        0.62662211,  0.6972339 ,  0.35142526,  0.91067666,  0.04278696,\n",
       "        0.26024528,  0.06604856,  0.63469725,  0.77366053,  0.65178662,\n",
       "        0.88067879,  0.88862699,  0.01797097,  0.78972494,  0.99507689,\n",
       "        0.80639545,  0.04641487,  0.52948   ,  0.38323444,  0.17692508,\n",
       "        0.55266453,  0.0664337 ,  0.78899197,  0.7369903 ,  0.19566726,\n",
       "        0.12905135,  0.92237966,  0.62457802,  0.49210567,  0.51701642,\n",
       "        0.69047796,  0.93910658,  0.83832483,  0.45581289,  0.57430539])"
      ]
     },
     "execution_count": 4,
     "metadata": {},
     "output_type": "execute_result"
    }
   ],
   "source": [
    "# Define the area for each bubble\n",
    "# Max radius is set to a specified value\n",
    "max_radius = 25\n",
    "area = np.pi * (max_radius * np.random.rand(num_val)) ** 2"
   ]
  },
  {
   "cell_type": "code",
   "execution_count": null,
   "metadata": {
    "collapsed": true
   },
   "outputs": [],
   "source": []
  }
 ],
 "metadata": {
  "kernelspec": {
   "display_name": "Python 3",
   "language": "python",
   "name": "python3"
  },
  "language_info": {
   "codemirror_mode": {
    "name": "ipython",
    "version": 3
   },
   "file_extension": ".py",
   "mimetype": "text/x-python",
   "name": "python",
   "nbconvert_exporter": "python",
   "pygments_lexer": "ipython3",
   "version": "3.6.0"
  }
 },
 "nbformat": 4,
 "nbformat_minor": 2
}
