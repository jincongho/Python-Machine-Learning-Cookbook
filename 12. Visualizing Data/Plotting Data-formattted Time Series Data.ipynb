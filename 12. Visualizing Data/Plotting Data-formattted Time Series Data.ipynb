{
 "cells": [
  {
   "cell_type": "code",
   "execution_count": 1,
   "metadata": {
    "collapsed": true
   },
   "outputs": [],
   "source": [
    "import numpy \n",
    "import matplotlib.pyplot as plt\n",
    "from matplotlib.mlab import csv2rec\n",
    "import matplotlib.cbook as cbook\n",
    "from matplotlib.ticker import Formatter"
   ]
  },
  {
   "cell_type": "code",
   "execution_count": 2,
   "metadata": {
    "collapsed": true
   },
   "outputs": [],
   "source": [
    "# Define a class for formatting\n",
    "class DateFormatter(Formatter):\n",
    "    def __init__(self, dates, date_format='%Y-%m-%d'):\n",
    "        self.dates = dates\n",
    "        self.date_format = date_format\n",
    "        \n",
    "    # Extract the valut at time t at position 'position'\n",
    "    def __call__(self, t, position=0):\n",
    "        index = int(round(t))\n",
    "        if index >= len(self.dates) or index < 0:\n",
    "            return ''\n",
    "        return self.dates[index].strftime(self.date_format)"
   ]
  },
  {
   "cell_type": "code",
   "execution_count": 3,
   "metadata": {
    "collapsed": true
   },
   "outputs": [],
   "source": [
    "# CSV file containeing the stock quotes\n",
    "input_file = cbook.get_sample_data('aapl.csv', asfileobj=False)\n",
    "\n",
    "# Load csv file into numpy record array\n",
    "data = csv2rec(input_file)"
   ]
  },
  {
   "cell_type": "code",
   "execution_count": 4,
   "metadata": {
    "collapsed": true
   },
   "outputs": [],
   "source": [
    "# Create the date formatter object\n",
    "formatter = DateFormatter(data.date)"
   ]
  },
  {
   "cell_type": "code",
   "execution_count": 5,
   "metadata": {
    "collapsed": true
   },
   "outputs": [],
   "source": [
    "# X axis\n",
    "x_vals = numpy.arange(len(data))\n",
    "\n",
    "# Y axis values are the closing stock quotes\n",
    "y_vals = data.close"
   ]
  },
  {
   "cell_type": "code",
   "execution_count": 6,
   "metadata": {
    "collapsed": false
   },
   "outputs": [
    {
     "data": {
      "image/png": "[encoded data removed]",
      "text/plain": [
       "<matplotlib.figure.Figure at 0x1107f5d68>"
      ]
     },
     "metadata": {},
     "output_type": "display_data"
    }
   ],
   "source": [
    "# Plot data\n",
    "fig, ax = plt.subplots()\n",
    "ax.xaxis.set_major_formatter(formatter)\n",
    "ax.plot(x_vals, y_vals, 'o-')\n",
    "fig.autofmt_xdate()\n",
    "plt.show()"
   ]
  },
  {
   "cell_type": "code",
   "execution_count": 7,
   "metadata": {
    "collapsed": false
   },
   "outputs": [
    {
     "data": {
      "text/plain": [
       "rec.array([ (datetime.date(2008, 10, 14),  116.26,  116.4 ,  103.14,  104.08, 70749800,  104.08),\n",
       " (datetime.date(2008, 10, 13),  104.55,  110.53,  101.02,  110.26, 54967000,  110.26),\n",
       " (datetime.date(2008, 10, 10),   85.7 ,  100.  ,   85.  ,   96.8 , 79260700,   96.8 ),\n",
       " ...,\n",
       " (datetime.date(1984, 9, 11),   26.62,   27.37,   26.62,   26.87,  5444000,    3.07),\n",
       " (datetime.date(1984, 9, 10),   26.5 ,   26.62,   25.87,   26.37,  2346400,    3.01),\n",
       " (datetime.date(1984, 9, 7),   26.5 ,   26.87,   26.25,   26.5 ,  2981600,    3.02)], \n",
       "          dtype=[('date', 'O'), ('open', '<f8'), ('high', '<f8'), ('low', '<f8'), ('close', '<f8'), ('volume', '<i8'), ('adj_close', '<f8')])"
      ]
     },
     "execution_count": 7,
     "metadata": {},
     "output_type": "execute_result"
    }
   ],
   "source": [
    "data"
   ]
  },
  {
   "cell_type": "code",
   "execution_count": null,
   "metadata": {
    "collapsed": true
   },
   "outputs": [],
   "source": []
  }
 ],
 "metadata": {
  "kernelspec": {
   "display_name": "Python 3",
   "language": "python",
   "name": "python3"
  },
  "language_info": {
   "codemirror_mode": {
    "name": "ipython",
    "version": 3
   },
   "file_extension": ".py",
   "mimetype": "text/x-python",
   "name": "python",
   "nbconvert_exporter": "python",
   "pygments_lexer": "ipython3",
   "version": "3.6.0"
  }
 },
 "nbformat": 4,
 "nbformat_minor": 2
}
