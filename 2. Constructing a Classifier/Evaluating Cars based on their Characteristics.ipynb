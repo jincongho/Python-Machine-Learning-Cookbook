{
 "cells": [
  {
   "cell_type": "code",
   "execution_count": 1,
   "metadata": {
    "collapsed": true
   },
   "outputs": [],
   "source": [
    "from sklearn import preprocessing\n",
    "from sklearn.ensemble import RandomForestClassifier\n",
    "import numpy as np"
   ]
  },
  {
   "cell_type": "code",
   "execution_count": 2,
   "metadata": {
    "collapsed": false
   },
   "outputs": [],
   "source": [
    "input_file = 'car.data.txt'\n",
    "\n",
    "# Reading the data\n",
    "X = []\n",
    "count = 0\n",
    "with open(input_file, 'r') as f:\n",
    "    for line in f.readlines():\n",
    "        data = line[:-1].split(',')\n",
    "        X.append(data)\n",
    "\n",
    "X = np.array(X)"
   ]
  },
  {
   "cell_type": "code",
   "execution_count": 3,
   "metadata": {
    "collapsed": false
   },
   "outputs": [],
   "source": [
    "# Convert string data to numerical data\n",
    "label_encoder = []\n",
    "X_encoded = np.empty(X.shape)\n",
    "for i,item in enumerate(X[0]):\n",
    "    label_encoder.append(preprocessing.LabelEncoder())\n",
    "    X_encoded[:,i] = label_encoder[-1].fit_transform(X[:,i])\n",
    "    \n",
    "X = X_encoded[:,:-1].astype(int)\n",
    "Y = X_encoded[:,-1].astype(int)"
   ]
  },
  {
   "cell_type": "code",
   "execution_count": 4,
   "metadata": {
    "collapsed": false
   },
   "outputs": [
    {
     "data": {
      "text/plain": [
       "RandomForestClassifier(bootstrap=True, class_weight=None, criterion='gini',\n",
       "            max_depth=8, max_features='auto', max_leaf_nodes=None,\n",
       "            min_impurity_split=1e-07, min_samples_leaf=1,\n",
       "            min_samples_split=2, min_weight_fraction_leaf=0.0,\n",
       "            n_estimators=200, n_jobs=1, oob_score=False, random_state=7,\n",
       "            verbose=0, warm_start=False)"
      ]
     },
     "execution_count": 4,
     "metadata": {},
     "output_type": "execute_result"
    }
   ],
   "source": [
    "# Build a Random Forest Classifier\n",
    "params = {'n_estimators': 200, 'max_depth': 8, 'random_state': 7}\n",
    "classifier = RandomForestClassifier(**params)\n",
    "classifier.fit(X, Y)"
   ]
  },
  {
   "cell_type": "code",
   "execution_count": 5,
   "metadata": {
    "collapsed": true
   },
   "outputs": [],
   "source": [
    "# Cross Validation\n",
    "from sklearn.model_selection import cross_val_score"
   ]
  },
  {
   "cell_type": "code",
   "execution_count": 6,
   "metadata": {
    "collapsed": false
   },
   "outputs": [
    {
     "name": "stdout",
     "output_type": "stream",
     "text": [
      "Accuracy of the classifier: 78.19%\n"
     ]
    }
   ],
   "source": [
    "accuracy = cross_val_score(classifier, X, Y, scoring='accuracy', cv=3)\n",
    "print(\"Accuracy of the classifier: \" + str(round(100 * accuracy.mean(), 2)) + \"%\")"
   ]
  },
  {
   "cell_type": "code",
   "execution_count": 7,
   "metadata": {
    "collapsed": false
   },
   "outputs": [],
   "source": [
    "# Testing encoding on single data instance\n",
    "input_data = ['vhigh', 'vhigh', '2', '2', 'small', 'low']\n",
    "input_data_encoded = [-1] * len(input_data)\n",
    "for i,item in enumerate(input_data):\n",
    "    input_data_encoded[i] = int(label_encoder[i].transform([input_data[i]]))\n",
    "input_data_encoded = np.array(input_data_encoded)"
   ]
  },
  {
   "cell_type": "code",
   "execution_count": 8,
   "metadata": {
    "collapsed": false
   },
   "outputs": [
    {
     "name": "stdout",
     "output_type": "stream",
     "text": [
      "Output class: ['unacc']\n"
     ]
    },
    {
     "name": "stderr",
     "output_type": "stream",
     "text": [
      "/Users/jincongho/anaconda/envs/jupyter3/lib/python3.6/site-packages/sklearn/utils/validation.py:395: DeprecationWarning: Passing 1d arrays as data is deprecated in 0.17 and will raise ValueError in 0.19. Reshape your data either using X.reshape(-1, 1) if your data has a single feature or X.reshape(1, -1) if it contains a single sample.\n",
      "  DeprecationWarning)\n"
     ]
    }
   ],
   "source": [
    "# Predict and print output for a particular datapoint\n",
    "output_class = classifier.predict(input_data_encoded)\n",
    "print(\"Output class:\", label_encoder[-1].inverse_transform(output_class.reshape(-1,1))[0])"
   ]
  },
  {
   "cell_type": "markdown",
   "metadata": {},
   "source": [
    "## Extracting Validation Curves"
   ]
  },
  {
   "cell_type": "code",
   "execution_count": 9,
   "metadata": {
    "collapsed": false
   },
   "outputs": [],
   "source": [
    "from sklearn.model_selection import validation_curve"
   ]
  },
  {
   "cell_type": "code",
   "execution_count": 10,
   "metadata": {
    "collapsed": false
   },
   "outputs": [],
   "source": [
    "classifier = RandomForestClassifier(max_depth=4, random_state=7)\n",
    "parameter_grid = np.linspace(1, 200, 20).astype(int)\n",
    "train_scores, validation_scores = validation_curve(classifier, X, Y, \"n_estimators\", parameter_grid, cv=5)"
   ]
  },
  {
   "cell_type": "code",
   "execution_count": 11,
   "metadata": {
    "collapsed": false
   },
   "outputs": [
    {
     "name": "stdout",
     "output_type": "stream",
     "text": [
      "Validation Curves\n",
      "\n",
      "Param: n_estimators\n",
      "Training Scores:\n",
      " [[ 0.70043415  0.71273517  0.70188133  0.70043415  0.70375723]\n",
      " [ 0.82127352  0.8154848   0.82127352  0.79015919  0.80780347]\n",
      " [ 0.79956585  0.80390738  0.81041968  0.8024602   0.8150289 ]\n",
      " [ 0.79305355  0.80607815  0.81186686  0.80535456  0.80852601]\n",
      " [ 0.80101302  0.80463097  0.81041968  0.80824891  0.80924855]\n",
      " [ 0.79522431  0.80463097  0.81114327  0.81186686  0.80852601]\n",
      " [ 0.79956585  0.80463097  0.81186686  0.81114327  0.80924855]\n",
      " [ 0.79667149  0.80680174  0.81186686  0.81403763  0.81213873]\n",
      " [ 0.80390738  0.80463097  0.81186686  0.81041968  0.81286127]\n",
      " [ 0.80173661  0.80535456  0.81259045  0.80752533  0.80491329]\n",
      " [ 0.7959479   0.80535456  0.81186686  0.80752533  0.80852601]\n",
      " [ 0.80318379  0.80463097  0.81114327  0.80824891  0.81575145]\n",
      " [ 0.79956585  0.80463097  0.81114327  0.80824891  0.81358382]\n",
      " [ 0.80390738  0.80607815  0.81114327  0.80824891  0.81430636]\n",
      " [ 0.80390738  0.80535456  0.81041968  0.8089725   0.8150289 ]\n",
      " [ 0.80390738  0.80463097  0.81041968  0.81476122  0.81647399]\n",
      " [ 0.80390738  0.80463097  0.81041968  0.8154848   0.81791908]\n",
      " [ 0.80390738  0.80463097  0.81114327  0.81476122  0.81719653]\n",
      " [ 0.80390738  0.80463097  0.81114327  0.8154848   0.81791908]\n",
      " [ 0.80390738  0.80607815  0.81114327  0.81403763  0.81647399]]\n",
      "Param: n_estimators\n",
      "Validation Scores:\n",
      " [[ 0.69942197  0.68786127  0.46531792  0.69942197  0.69767442]\n",
      " [ 0.71098266  0.73121387  0.71965318  0.80346821  0.75290698]\n",
      " [ 0.71098266  0.7716763   0.72543353  0.75722543  0.75290698]\n",
      " [ 0.71098266  0.76589595  0.71965318  0.75722543  0.72965116]\n",
      " [ 0.71098266  0.76878613  0.71965318  0.75722543  0.74127907]\n",
      " [ 0.71098266  0.74277457  0.71965318  0.75722543  0.73546512]\n",
      " [ 0.71098266  0.73410405  0.71965318  0.76878613  0.72965116]\n",
      " [ 0.71098266  0.73410405  0.71965318  0.76300578  0.73837209]\n",
      " [ 0.71098266  0.72543353  0.71965318  0.76300578  0.72965116]\n",
      " [ 0.71098266  0.73121387  0.71965318  0.75722543  0.72674419]\n",
      " [ 0.71098266  0.7283237   0.71965318  0.75722543  0.72965116]\n",
      " [ 0.71098266  0.74277457  0.71965318  0.75722543  0.74418605]\n",
      " [ 0.71098266  0.74566474  0.71965318  0.75722543  0.74418605]\n",
      " [ 0.71098266  0.74566474  0.71965318  0.75722543  0.74127907]\n",
      " [ 0.71098266  0.74566474  0.71965318  0.75722543  0.74127907]\n",
      " [ 0.71098266  0.74566474  0.71965318  0.75722543  0.74418605]\n",
      " [ 0.71098266  0.74566474  0.71965318  0.75722543  0.74418605]\n",
      " [ 0.71098266  0.74566474  0.71965318  0.75722543  0.74127907]\n",
      " [ 0.71098266  0.74855491  0.71965318  0.75722543  0.74709302]\n",
      " [ 0.71098266  0.75144509  0.71965318  0.75722543  0.74127907]]\n"
     ]
    }
   ],
   "source": [
    "print(\"Validation Curves\\n\")\n",
    "print(\"Param: n_estimators\\nTraining Scores:\\n\", train_scores)\n",
    "print(\"Param: n_estimators\\nValidation Scores:\\n\", validation_scores)"
   ]
  },
  {
   "cell_type": "code",
   "execution_count": 12,
   "metadata": {
    "collapsed": true
   },
   "outputs": [],
   "source": [
    "import matplotlib.pyplot as plt"
   ]
  },
  {
   "cell_type": "code",
   "execution_count": 13,
   "metadata": {
    "collapsed": false
   },
   "outputs": [
    {
     "data": {
      "image/png": "[encoded data removed]",
      "text/plain": [
       "<matplotlib.figure.Figure at 0x10d499da0>"
      ]
     },
     "metadata": {},
     "output_type": "display_data"
    }
   ],
   "source": [
    "# Plot the curve\n",
    "plt.figure()\n",
    "plt.plot(parameter_grid, 100 * np.average(train_scores, axis=1), color='black')\n",
    "plt.title('Training Curve')\n",
    "plt.xlabel('Number of Estimators')\n",
    "plt.ylabel('Accuracy')\n",
    "plt.show()"
   ]
  },
  {
   "cell_type": "code",
   "execution_count": 14,
   "metadata": {
    "collapsed": true
   },
   "outputs": [],
   "source": [
    "classifier = RandomForestClassifier(n_estimators=20, random_state=7)\n",
    "parameter_grid = np.linspace(2,20,10).astype(int)\n",
    "train_scores, valid_scores = validation_curve(classifier, X, Y, \"max_depth\", parameter_grid, cv=5)"
   ]
  },
  {
   "cell_type": "code",
   "execution_count": 15,
   "metadata": {
    "collapsed": false
   },
   "outputs": [
    {
     "name": "stdout",
     "output_type": "stream",
     "text": [
      "Param: max_depth\n",
      "Training Scores:\n",
      " [[ 0.71852388  0.70043415  0.70043415  0.70043415  0.69942197]\n",
      " [ 0.80607815  0.80535456  0.80752533  0.79450072  0.81069364]\n",
      " [ 0.90665702  0.91027496  0.92836469  0.89797395  0.90679191]\n",
      " [ 0.97467438  0.96743849  0.96888567  0.97829233  0.96820809]\n",
      " [ 0.99421129  0.99710564  0.99782923  0.99855282  0.99277457]\n",
      " [ 1.          1.          1.          1.          1.        ]\n",
      " [ 1.          1.          1.          1.          1.        ]\n",
      " [ 1.          1.          1.          1.          1.        ]\n",
      " [ 1.          1.          1.          1.          1.        ]\n",
      " [ 1.          1.          1.          1.          1.        ]]\n",
      "Param: max_depth\n",
      "Validation Scores:\n",
      " [[ 0.69942197  0.68786127  0.46531792  0.69942197  0.69767442]\n",
      " [ 0.71098266  0.73121387  0.71965318  0.80346821  0.75290698]\n",
      " [ 0.71098266  0.7716763   0.72543353  0.75722543  0.75290698]\n",
      " [ 0.71098266  0.76589595  0.71965318  0.75722543  0.72965116]\n",
      " [ 0.71098266  0.76878613  0.71965318  0.75722543  0.74127907]\n",
      " [ 0.71098266  0.74277457  0.71965318  0.75722543  0.73546512]\n",
      " [ 0.71098266  0.73410405  0.71965318  0.76878613  0.72965116]\n",
      " [ 0.71098266  0.73410405  0.71965318  0.76300578  0.73837209]\n",
      " [ 0.71098266  0.72543353  0.71965318  0.76300578  0.72965116]\n",
      " [ 0.71098266  0.73121387  0.71965318  0.75722543  0.72674419]\n",
      " [ 0.71098266  0.7283237   0.71965318  0.75722543  0.72965116]\n",
      " [ 0.71098266  0.74277457  0.71965318  0.75722543  0.74418605]\n",
      " [ 0.71098266  0.74566474  0.71965318  0.75722543  0.74418605]\n",
      " [ 0.71098266  0.74566474  0.71965318  0.75722543  0.74127907]\n",
      " [ 0.71098266  0.74566474  0.71965318  0.75722543  0.74127907]\n",
      " [ 0.71098266  0.74566474  0.71965318  0.75722543  0.74418605]\n",
      " [ 0.71098266  0.74566474  0.71965318  0.75722543  0.74418605]\n",
      " [ 0.71098266  0.74566474  0.71965318  0.75722543  0.74127907]\n",
      " [ 0.71098266  0.74855491  0.71965318  0.75722543  0.74709302]\n",
      " [ 0.71098266  0.75144509  0.71965318  0.75722543  0.74127907]]\n"
     ]
    }
   ],
   "source": [
    "print(\"Param: max_depth\\nTraining Scores:\\n\", train_scores)\n",
    "print(\"Param: max_depth\\nValidation Scores:\\n\", validation_scores)"
   ]
  },
  {
   "cell_type": "code",
   "execution_count": 16,
   "metadata": {
    "collapsed": false
   },
   "outputs": [
    {
     "data": {
      "image/png": "[encoded data removed]",
      "text/plain": [
       "<matplotlib.figure.Figure at 0x10c51f438>"
      ]
     },
     "metadata": {},
     "output_type": "display_data"
    }
   ],
   "source": [
    "# Plot the curve\n",
    "plt.figure()\n",
    "plt.plot(parameter_grid, 100*np.average(train_scores, axis=1), color='black')\n",
    "plt.title(\"Validation Curve\")\n",
    "plt.xlabel(\"Maximum depth of the tree\")\n",
    "plt.ylabel(\"Accuracy\")\n",
    "plt.show()"
   ]
  },
  {
   "cell_type": "markdown",
   "metadata": {
    "collapsed": true
   },
   "source": [
    "## Extracting Learning Curves"
   ]
  },
  {
   "cell_type": "code",
   "execution_count": 17,
   "metadata": {
    "collapsed": true
   },
   "outputs": [],
   "source": [
    "from sklearn.model_selection import learning_curve"
   ]
  },
  {
   "cell_type": "code",
   "execution_count": 19,
   "metadata": {
    "collapsed": true
   },
   "outputs": [],
   "source": [
    "classifier = RandomForestClassifier(random_state=7)"
   ]
  },
  {
   "cell_type": "code",
   "execution_count": 26,
   "metadata": {
    "collapsed": false
   },
   "outputs": [
    {
     "ename": "ValueError",
     "evalue": "train_sizes has been interpreted as fractions of the maximum number of training samples and must be within (0, 1], but is within [0.000000, 1100.000000].",
     "output_type": "error",
     "traceback": [
      "\u001b[0;31m---------------------------------------------------------------------------\u001b[0m",
      "\u001b[0;31mValueError\u001b[0m                                Traceback (most recent call last)",
      "\u001b[0;32m<ipython-input-26-62001458828e>\u001b[0m in \u001b[0;36m<module>\u001b[0;34m()\u001b[0m\n\u001b[1;32m      1\u001b[0m \u001b[0mparameter_grid\u001b[0m \u001b[0;34m=\u001b[0m \u001b[0mnp\u001b[0m\u001b[0;34m.\u001b[0m\u001b[0mlinspace\u001b[0m\u001b[0;34m(\u001b[0m\u001b[0;36m0\u001b[0m\u001b[0;34m,\u001b[0m\u001b[0;36m1100\u001b[0m\u001b[0;34m,\u001b[0m\u001b[0;36m11\u001b[0m\u001b[0;34m)\u001b[0m\u001b[0;34m\u001b[0m\u001b[0m\n\u001b[1;32m      2\u001b[0m train_sizes, train_scores, validation_scores = learning_curve(classifier, \n\u001b[0;32m----> 3\u001b[0;31m                                                              X, Y, train_sizes=parameter_grid, cv=5)\n\u001b[0m",
      "\u001b[0;32m/Users/jincongho/anaconda/envs/jupyter3/lib/python3.6/site-packages/sklearn/model_selection/_validation.py\u001b[0m in \u001b[0;36mlearning_curve\u001b[0;34m(estimator, X, y, groups, train_sizes, cv, scoring, exploit_incremental_learning, n_jobs, pre_dispatch, verbose)\u001b[0m\n\u001b[1;32m    754\u001b[0m     \u001b[0;31m# use the first 'n_max_training_samples' samples.\u001b[0m\u001b[0;34m\u001b[0m\u001b[0;34m\u001b[0m\u001b[0m\n\u001b[1;32m    755\u001b[0m     train_sizes_abs = _translate_train_sizes(train_sizes,\n\u001b[0;32m--> 756\u001b[0;31m                                              n_max_training_samples)\n\u001b[0m\u001b[1;32m    757\u001b[0m     \u001b[0mn_unique_ticks\u001b[0m \u001b[0;34m=\u001b[0m \u001b[0mtrain_sizes_abs\u001b[0m\u001b[0;34m.\u001b[0m\u001b[0mshape\u001b[0m\u001b[0;34m[\u001b[0m\u001b[0;36m0\u001b[0m\u001b[0;34m]\u001b[0m\u001b[0;34m\u001b[0m\u001b[0m\n\u001b[1;32m    758\u001b[0m     \u001b[0;32mif\u001b[0m \u001b[0mverbose\u001b[0m \u001b[0;34m>\u001b[0m \u001b[0;36m0\u001b[0m\u001b[0;34m:\u001b[0m\u001b[0;34m\u001b[0m\u001b[0m\n",
      "\u001b[0;32m/Users/jincongho/anaconda/envs/jupyter3/lib/python3.6/site-packages/sklearn/model_selection/_validation.py\u001b[0m in \u001b[0;36m_translate_train_sizes\u001b[0;34m(train_sizes, n_max_training_samples)\u001b[0m\n\u001b[1;32m    815\u001b[0m                              \u001b[0;34m\"must be within (0, 1], but is within [%f, %f].\"\u001b[0m\u001b[0;34m\u001b[0m\u001b[0m\n\u001b[1;32m    816\u001b[0m                              % (n_min_required_samples,\n\u001b[0;32m--> 817\u001b[0;31m                                 n_max_required_samples))\n\u001b[0m\u001b[1;32m    818\u001b[0m         train_sizes_abs = astype(train_sizes_abs * n_max_training_samples,\n\u001b[1;32m    819\u001b[0m                                  dtype=np.int, copy=False)\n",
      "\u001b[0;31mValueError\u001b[0m: train_sizes has been interpreted as fractions of the maximum number of training samples and must be within (0, 1], but is within [0.000000, 1100.000000]."
     ]
    }
   ],
   "source": [
    "parameter_grid = np.array([200,500,800,1100])\n",
    "train_sizes, train_scores, validation_scores = learning_curve(classifier, \n",
    "                                                             X, Y, train_sizes=parameter_grid, cv=5)"
   ]
  },
  {
   "cell_type": "code",
   "execution_count": 21,
   "metadata": {
    "collapsed": false
   },
   "outputs": [
    {
     "name": "stdout",
     "output_type": "stream",
     "text": [
      "Learning Curve\n",
      "Training Scores:\n",
      " [[ 1.          1.          1.          1.          1.        ]\n",
      " [ 1.          1.          0.998       0.998       0.998     ]\n",
      " [ 0.99875     0.9975      0.99875     0.99875     0.99875   ]\n",
      " [ 0.99818182  0.99545455  0.99909091  0.99818182  0.99818182]]\n",
      "Validation Scores:\n",
      " [[ 0.69942197  0.69942197  0.69942197  0.69942197  0.70348837]\n",
      " [ 0.74855491  0.65028902  0.76878613  0.76589595  0.70348837]\n",
      " [ 0.70520231  0.78612717  0.52312139  0.76878613  0.77034884]\n",
      " [ 0.65028902  0.75433526  0.65317919  0.75433526  0.76744186]]\n"
     ]
    }
   ],
   "source": [
    "print('Learning Curve')\n",
    "print(\"Training Scores:\\n\", train_scores)\n",
    "print(\"Validation Scores:\\n\", validation_scores)"
   ]
  },
  {
   "cell_type": "code",
   "execution_count": 22,
   "metadata": {
    "collapsed": false
   },
   "outputs": [
    {
     "data": {
      "image/png": "[encoded data removed]",
      "text/plain": [
       "<matplotlib.figure.Figure at 0x10d499940>"
      ]
     },
     "metadata": {},
     "output_type": "display_data"
    }
   ],
   "source": [
    "plt.figure()\n",
    "plt.plot(parameter_grid, 100*np.average(train_scores, axis=1), color='black')\n",
    "plt.title('Learning Curve')\n",
    "plt.xlabel('Number of training samples')\n",
    "plt.ylabel('Accuracy')\n",
    "plt.show()"
   ]
  },
  {
   "cell_type": "code",
   "execution_count": null,
   "metadata": {
    "collapsed": true
   },
   "outputs": [],
   "source": []
  }
 ],
 "metadata": {
  "kernelspec": {
   "display_name": "Python 3",
   "language": "python",
   "name": "python3"
  },
  "language_info": {
   "codemirror_mode": {
    "name": "ipython",
    "version": 3
   },
   "file_extension": ".py",
   "mimetype": "text/x-python",
   "name": "python",
   "nbconvert_exporter": "python",
   "pygments_lexer": "ipython3",
   "version": "3.6.0"
  }
 },
 "nbformat": 4,
 "nbformat_minor": 2
}
