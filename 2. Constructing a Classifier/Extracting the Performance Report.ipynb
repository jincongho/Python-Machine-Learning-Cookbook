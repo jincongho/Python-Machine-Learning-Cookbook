{
 "cells": [
  {
   "cell_type": "code",
   "execution_count": 1,
   "metadata": {
    "collapsed": true
   },
   "outputs": [],
   "source": [
    "from sklearn.metrics import classification_report\n",
    "import numpy as np"
   ]
  },
  {
   "cell_type": "code",
   "execution_count": 2,
   "metadata": {
    "collapsed": false
   },
   "outputs": [
    {
     "name": "stdout",
     "output_type": "stream",
     "text": [
      "             precision    recall  f1-score   support\n",
      "\n",
      "    Class-0       1.00      0.67      0.80         3\n",
      "    Class-1       0.50      1.00      0.67         2\n",
      "    Class-2       1.00      1.00      1.00         1\n",
      "    Class-3       1.00      0.67      0.80         3\n",
      "\n",
      "avg / total       0.89      0.78      0.79         9\n",
      "\n"
     ]
    }
   ],
   "source": [
    "Y_true = [1,0,0,2,1,0,3,3,3]\n",
    "Y_pred = [1,1,0,2,1,0,1,3,3]\n",
    "target_names = ['Class-0', 'Class-1', 'Class-2', 'Class-3']\n",
    "print(classification_report(Y_true, Y_pred, target_names=target_names))"
   ]
  },
  {
   "cell_type": "code",
   "execution_count": null,
   "metadata": {
    "collapsed": true
   },
   "outputs": [],
   "source": []
  }
 ],
 "metadata": {
  "kernelspec": {
   "display_name": "Python 3",
   "language": "python",
   "name": "python3"
  },
  "language_info": {
   "codemirror_mode": {
    "name": "ipython",
    "version": 3
   },
   "file_extension": ".py",
   "mimetype": "text/x-python",
   "name": "python",
   "nbconvert_exporter": "python",
   "pygments_lexer": "ipython3",
   "version": "3.6.0"
  }
 },
 "nbformat": 4,
 "nbformat_minor": 2
}
