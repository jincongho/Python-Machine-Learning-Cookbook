{
 "cells": [
  {
   "cell_type": "code",
   "execution_count": 1,
   "metadata": {
    "collapsed": false
   },
   "outputs": [
    {
     "name": "stderr",
     "output_type": "stream",
     "text": [
      "/Users/jincongho/anaconda/envs/jupyter3/lib/python3.6/site-packages/sklearn/cross_validation.py:44: DeprecationWarning: This module was deprecated in version 0.18 in favor of the model_selection module into which all the refactored classes and functions are moved. Also note that the interface of the new CV iterators are different from that of this module. This module will be removed in 0.20.\n",
      "  \"This module will be removed in 0.20.\", DeprecationWarning)\n",
      "/Users/jincongho/anaconda/envs/jupyter3/lib/python3.6/site-packages/sklearn/grid_search.py:43: DeprecationWarning: This module was deprecated in version 0.18 in favor of the model_selection module into which all the refactored classes and functions are moved. This module will be removed in 0.20.\n",
      "  DeprecationWarning)\n"
     ]
    }
   ],
   "source": [
    "import numpy as np\n",
    "import matplotlib.pyplot as plt\n",
    "from sklearn import svm, grid_search, cross_validation\n",
    "from sklearn.metrics import classification_report\n",
    "\n",
    "import utilities "
   ]
  },
  {
   "cell_type": "code",
   "execution_count": 2,
   "metadata": {
    "collapsed": true
   },
   "outputs": [],
   "source": [
    "# Load input data\n",
    "input_file = 'data_multivar.txt'\n",
    "X, y = utilities.load_data(input_file)"
   ]
  },
  {
   "cell_type": "code",
   "execution_count": 3,
   "metadata": {
    "collapsed": true
   },
   "outputs": [],
   "source": [
    "from sklearn.model_selection import train_test_split\n",
    "\n",
    "X_train, X_test, y_train, y_test = train_test_split(X, y, test_size=0.25, random_state=5)"
   ]
  },
  {
   "cell_type": "code",
   "execution_count": 4,
   "metadata": {
    "collapsed": true
   },
   "outputs": [],
   "source": [
    "parameter_grid = [  {'kernel': ['linear'], 'C': [1, 10, 50, 600]},\n",
    "                    {'kernel': ['poly'], 'degree': [2, 3]},\n",
    "                    {'kernel': ['rbf'], 'gamma': [0.01, 0.001], 'C': [1, 10, 50, 600]},\n",
    "                 ]\n",
    "\n",
    "metrics = ['precision', 'recall_weighted']"
   ]
  },
  {
   "cell_type": "code",
   "execution_count": 6,
   "metadata": {
    "collapsed": false
   },
   "outputs": [
    {
     "name": "stdout",
     "output_type": "stream",
     "text": [
      "\n",
      "#### Searching optimal hyperparameters for precision\n",
      "\n",
      "Scores across the parameter grid:\n",
      "{'C': 1, 'kernel': 'linear'} --> 0.676\n",
      "{'C': 10, 'kernel': 'linear'} --> 0.676\n",
      "{'C': 50, 'kernel': 'linear'} --> 0.676\n",
      "{'C': 600, 'kernel': 'linear'} --> 0.676\n",
      "{'degree': 2, 'kernel': 'poly'} --> 0.872\n",
      "{'degree': 3, 'kernel': 'poly'} --> 0.872\n",
      "{'C': 1, 'gamma': 0.01, 'kernel': 'rbf'} --> 0.98\n",
      "{'C': 1, 'gamma': 0.001, 'kernel': 'rbf'} --> 0.533\n",
      "{'C': 10, 'gamma': 0.01, 'kernel': 'rbf'} --> 0.983\n",
      "{'C': 10, 'gamma': 0.001, 'kernel': 'rbf'} --> 0.543\n",
      "{'C': 50, 'gamma': 0.01, 'kernel': 'rbf'} --> 0.959\n",
      "{'C': 50, 'gamma': 0.001, 'kernel': 'rbf'} --> 0.806\n",
      "{'C': 600, 'gamma': 0.01, 'kernel': 'rbf'} --> 0.967\n",
      "{'C': 600, 'gamma': 0.001, 'kernel': 'rbf'} --> 0.983\n",
      "\n",
      "Highest scoring parameter set: {'C': 10, 'gamma': 0.01, 'kernel': 'rbf'}\n",
      "\n",
      "Full performance report:\n",
      "\n",
      "             precision    recall  f1-score   support\n",
      "\n",
      "        0.0       0.92      0.98      0.95        45\n",
      "        1.0       0.96      0.87      0.91        30\n",
      "\n",
      "avg / total       0.94      0.93      0.93        75\n",
      "\n",
      "\n",
      "#### Searching optimal hyperparameters for recall_weighted\n",
      "\n",
      "Scores across the parameter grid:\n",
      "{'C': 1, 'kernel': 'linear'} --> 0.591\n",
      "{'C': 10, 'kernel': 'linear'} --> 0.591\n",
      "{'C': 50, 'kernel': 'linear'} --> 0.591\n",
      "{'C': 600, 'kernel': 'linear'} --> 0.591\n",
      "{'degree': 2, 'kernel': 'poly'} --> 0.884\n",
      "{'degree': 3, 'kernel': 'poly'} --> 0.884\n",
      "{'C': 1, 'gamma': 0.01, 'kernel': 'rbf'} --> 0.831\n",
      "{'C': 1, 'gamma': 0.001, 'kernel': 'rbf'} --> 0.533\n",
      "{'C': 10, 'gamma': 0.01, 'kernel': 'rbf'} --> 0.92\n",
      "{'C': 10, 'gamma': 0.001, 'kernel': 'rbf'} --> 0.524\n",
      "{'C': 50, 'gamma': 0.01, 'kernel': 'rbf'} --> 0.947\n",
      "{'C': 50, 'gamma': 0.001, 'kernel': 'rbf'} --> 0.671\n",
      "{'C': 600, 'gamma': 0.01, 'kernel': 'rbf'} --> 0.951\n",
      "{'C': 600, 'gamma': 0.001, 'kernel': 'rbf'} --> 0.916\n",
      "\n",
      "Highest scoring parameter set: {'C': 600, 'gamma': 0.01, 'kernel': 'rbf'}\n",
      "\n",
      "Full performance report:\n",
      "\n",
      "             precision    recall  f1-score   support\n",
      "\n",
      "        0.0       0.98      0.91      0.94        45\n",
      "        1.0       0.88      0.97      0.92        30\n",
      "\n",
      "avg / total       0.94      0.93      0.93        75\n",
      "\n"
     ]
    }
   ],
   "source": [
    "for metric in metrics:\n",
    "    print(\"\\n#### Searching optimal hyperparameters for\", metric)\n",
    "\n",
    "    classifier = grid_search.GridSearchCV(svm.SVC(C=1), \n",
    "            parameter_grid, cv=5, scoring=metric)\n",
    "    classifier.fit(X_train, y_train)\n",
    "\n",
    "    print(\"\\nScores across the parameter grid:\")\n",
    "    for params, avg_score, _ in classifier.grid_scores_:\n",
    "        print(params, '-->', round(avg_score, 3))\n",
    "\n",
    "    print(\"\\nHighest scoring parameter set:\", classifier.best_params_)\n",
    "\n",
    "    y_true, y_pred = y_test, classifier.predict(X_test)\n",
    "    print(\"\\nFull performance report:\\n\")\n",
    "    print(classification_report(y_true, y_pred))\n"
   ]
  },
  {
   "cell_type": "code",
   "execution_count": null,
   "metadata": {
    "collapsed": true
   },
   "outputs": [],
   "source": []
  }
 ],
 "metadata": {
  "kernelspec": {
   "display_name": "Python 3",
   "language": "python",
   "name": "python3"
  },
  "language_info": {
   "codemirror_mode": {
    "name": "ipython",
    "version": 3
   },
   "file_extension": ".py",
   "mimetype": "text/x-python",
   "name": "python",
   "nbconvert_exporter": "python",
   "pygments_lexer": "ipython3",
   "version": "3.6.0"
  }
 },
 "nbformat": 4,
 "nbformat_minor": 2
}
